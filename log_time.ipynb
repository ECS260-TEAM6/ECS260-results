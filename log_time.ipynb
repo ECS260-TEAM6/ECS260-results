{
 "cells": [
  {
   "cell_type": "code",
   "execution_count": 1,
   "id": "3a54bfbc",
   "metadata": {},
   "outputs": [],
   "source": [
    "import pandas as pd\n",
    "import matplotlib.pyplot as plt\n",
    "import seaborn as sns\n",
    "import numpy as np\n",
    "from statsmodels.formula.api import ols\n",
    "import statsmodels.api as sm\n",
    "%config InlineBackend.figure_format = 'retina'\n",
    "%matplotlib inline\n",
    "plt.style.use('ggplot')\n",
    "pd.options.mode.chained_assignment = None  # default='warn"
   ]
  },
  {
   "cell_type": "code",
   "execution_count": 89,
   "id": "94da10e0",
   "metadata": {},
   "outputs": [],
   "source": [
    "df = pd.read_csv('total.csv')"
   ]
  },
  {
   "cell_type": "code",
   "execution_count": 90,
   "id": "1246caa1",
   "metadata": {},
   "outputs": [],
   "source": [
    "df = df.reindex(columns = ['tr_log_testduration', 'tr_log_lan', 'tr_log_num_tests_run','loc', 'tr_log_bool_tests_failed'])"
   ]
  },
  {
   "cell_type": "code",
   "execution_count": 91,
   "id": "71dbfbec",
   "metadata": {},
   "outputs": [],
   "source": [
    "df = df.rename(columns={'tr_log_testduration': 'time', 'tr_log_lan' : 'language', 'tr_log_num_tests_run' : 'test_count', 'tr_log_num_test_suites_run' : \"test_suites_count\", 'tr_log_bool_tests_failed' : 'status'})\n"
   ]
  },
  {
   "cell_type": "code",
   "execution_count": 92,
   "id": "fd03219d",
   "metadata": {},
   "outputs": [],
   "source": [
    "df = df[df['time'].notnull() & df['test_count'].notnull() & df['status'].notnull()]"
   ]
  },
  {
   "cell_type": "code",
   "execution_count": 93,
   "id": "cc368e40",
   "metadata": {},
   "outputs": [],
   "source": [
    "df.eval('log_test_count = log(test_count)', inplace = True)\n",
    "df.eval('log_time = log(time)', inplace = True)"
   ]
  },
  {
   "cell_type": "code",
   "execution_count": 94,
   "id": "f4447054",
   "metadata": {},
   "outputs": [],
   "source": [
    "df = df[(df['loc'] > 500) & (df['time'] > 1) & (df['test_count'] > 10) & (df['status'] == False)]\n",
    "df = df[((df[\"loc\"] - df[\"loc\"].mean()).abs() < 3 * df[\"loc\"].std()) & \n",
    "        ((df[\"test_count\"] - df[\"test_count\"].mean()).abs() < 3 * df[\"test_count\"].std()) &\n",
    "       ((df[\"log_time\"] - df[\"log_time\"].mean()).abs() < 3 * df[\"log_time\"].std())]"
   ]
  },
  {
   "cell_type": "code",
   "execution_count": 95,
   "id": "bf900775",
   "metadata": {},
   "outputs": [],
   "source": [
    "df = df[(df['language'] == 'java') | (df['language'] == 'ruby') | (df['language'] == 'python')]"
   ]
  },
  {
   "cell_type": "code",
   "execution_count": 96,
   "id": "958889e6",
   "metadata": {},
   "outputs": [],
   "source": [
    "df['ruby'] = [1 if df.iloc[i, 1] == 'ruby' else 0 for i in range(len(df))]\n",
    "df['python'] = [1 if df.iloc[i, 1] == 'python' else 0 for i in range(len(df))]\n",
    "df['java'] = [1 if df.iloc[i, 1] == 'java' else 0 for i in range(len(df))]"
   ]
  },
  {
   "cell_type": "code",
   "execution_count": 97,
   "id": "61fbccd9",
   "metadata": {},
   "outputs": [
    {
     "data": {
      "text/html": [
       "<div>\n",
       "<style scoped>\n",
       "    .dataframe tbody tr th:only-of-type {\n",
       "        vertical-align: middle;\n",
       "    }\n",
       "\n",
       "    .dataframe tbody tr th {\n",
       "        vertical-align: top;\n",
       "    }\n",
       "\n",
       "    .dataframe thead th {\n",
       "        text-align: right;\n",
       "    }\n",
       "</style>\n",
       "<table border=\"1\" class=\"dataframe\">\n",
       "  <thead>\n",
       "    <tr style=\"text-align: right;\">\n",
       "      <th></th>\n",
       "      <th>time</th>\n",
       "      <th>language</th>\n",
       "      <th>test_count</th>\n",
       "      <th>loc</th>\n",
       "      <th>status</th>\n",
       "      <th>log_test_count</th>\n",
       "      <th>log_time</th>\n",
       "      <th>ruby</th>\n",
       "      <th>python</th>\n",
       "      <th>java</th>\n",
       "    </tr>\n",
       "  </thead>\n",
       "  <tbody>\n",
       "    <tr>\n",
       "      <th>5</th>\n",
       "      <td>6.63</td>\n",
       "      <td>ruby</td>\n",
       "      <td>858.0</td>\n",
       "      <td>3969</td>\n",
       "      <td>False</td>\n",
       "      <td>6.754604</td>\n",
       "      <td>1.891605</td>\n",
       "      <td>1</td>\n",
       "      <td>0</td>\n",
       "      <td>0</td>\n",
       "    </tr>\n",
       "    <tr>\n",
       "      <th>6</th>\n",
       "      <td>4.48</td>\n",
       "      <td>ruby</td>\n",
       "      <td>916.0</td>\n",
       "      <td>4031</td>\n",
       "      <td>False</td>\n",
       "      <td>6.820016</td>\n",
       "      <td>1.499623</td>\n",
       "      <td>1</td>\n",
       "      <td>0</td>\n",
       "      <td>0</td>\n",
       "    </tr>\n",
       "    <tr>\n",
       "      <th>11</th>\n",
       "      <td>13.14</td>\n",
       "      <td>ruby</td>\n",
       "      <td>72.0</td>\n",
       "      <td>1478</td>\n",
       "      <td>False</td>\n",
       "      <td>4.276666</td>\n",
       "      <td>2.575661</td>\n",
       "      <td>1</td>\n",
       "      <td>0</td>\n",
       "      <td>0</td>\n",
       "    </tr>\n",
       "    <tr>\n",
       "      <th>12</th>\n",
       "      <td>16.43</td>\n",
       "      <td>ruby</td>\n",
       "      <td>76.0</td>\n",
       "      <td>1578</td>\n",
       "      <td>False</td>\n",
       "      <td>4.330733</td>\n",
       "      <td>2.799109</td>\n",
       "      <td>1</td>\n",
       "      <td>0</td>\n",
       "      <td>0</td>\n",
       "    </tr>\n",
       "    <tr>\n",
       "      <th>15</th>\n",
       "      <td>12.96</td>\n",
       "      <td>ruby</td>\n",
       "      <td>72.0</td>\n",
       "      <td>1425</td>\n",
       "      <td>False</td>\n",
       "      <td>4.276666</td>\n",
       "      <td>2.561868</td>\n",
       "      <td>1</td>\n",
       "      <td>0</td>\n",
       "      <td>0</td>\n",
       "    </tr>\n",
       "    <tr>\n",
       "      <th>...</th>\n",
       "      <td>...</td>\n",
       "      <td>...</td>\n",
       "      <td>...</td>\n",
       "      <td>...</td>\n",
       "      <td>...</td>\n",
       "      <td>...</td>\n",
       "      <td>...</td>\n",
       "      <td>...</td>\n",
       "      <td>...</td>\n",
       "      <td>...</td>\n",
       "    </tr>\n",
       "    <tr>\n",
       "      <th>31178</th>\n",
       "      <td>27.90</td>\n",
       "      <td>python</td>\n",
       "      <td>196.0</td>\n",
       "      <td>11931</td>\n",
       "      <td>False</td>\n",
       "      <td>5.278115</td>\n",
       "      <td>3.328627</td>\n",
       "      <td>0</td>\n",
       "      <td>1</td>\n",
       "      <td>0</td>\n",
       "    </tr>\n",
       "    <tr>\n",
       "      <th>31180</th>\n",
       "      <td>25.35</td>\n",
       "      <td>python</td>\n",
       "      <td>220.0</td>\n",
       "      <td>13530</td>\n",
       "      <td>False</td>\n",
       "      <td>5.393628</td>\n",
       "      <td>3.232779</td>\n",
       "      <td>0</td>\n",
       "      <td>1</td>\n",
       "      <td>0</td>\n",
       "    </tr>\n",
       "    <tr>\n",
       "      <th>31181</th>\n",
       "      <td>57.58</td>\n",
       "      <td>python</td>\n",
       "      <td>257.0</td>\n",
       "      <td>13793</td>\n",
       "      <td>False</td>\n",
       "      <td>5.549076</td>\n",
       "      <td>4.053175</td>\n",
       "      <td>0</td>\n",
       "      <td>1</td>\n",
       "      <td>0</td>\n",
       "    </tr>\n",
       "    <tr>\n",
       "      <th>31207</th>\n",
       "      <td>31.31</td>\n",
       "      <td>python</td>\n",
       "      <td>771.0</td>\n",
       "      <td>51267</td>\n",
       "      <td>False</td>\n",
       "      <td>6.647688</td>\n",
       "      <td>3.443938</td>\n",
       "      <td>0</td>\n",
       "      <td>1</td>\n",
       "      <td>0</td>\n",
       "    </tr>\n",
       "    <tr>\n",
       "      <th>31208</th>\n",
       "      <td>32.55</td>\n",
       "      <td>python</td>\n",
       "      <td>772.0</td>\n",
       "      <td>51333</td>\n",
       "      <td>False</td>\n",
       "      <td>6.648985</td>\n",
       "      <td>3.482777</td>\n",
       "      <td>0</td>\n",
       "      <td>1</td>\n",
       "      <td>0</td>\n",
       "    </tr>\n",
       "  </tbody>\n",
       "</table>\n",
       "<p>8157 rows × 10 columns</p>\n",
       "</div>"
      ],
      "text/plain": [
       "        time language  test_count    loc status  log_test_count  log_time  \\\n",
       "5       6.63     ruby       858.0   3969  False        6.754604  1.891605   \n",
       "6       4.48     ruby       916.0   4031  False        6.820016  1.499623   \n",
       "11     13.14     ruby        72.0   1478  False        4.276666  2.575661   \n",
       "12     16.43     ruby        76.0   1578  False        4.330733  2.799109   \n",
       "15     12.96     ruby        72.0   1425  False        4.276666  2.561868   \n",
       "...      ...      ...         ...    ...    ...             ...       ...   \n",
       "31178  27.90   python       196.0  11931  False        5.278115  3.328627   \n",
       "31180  25.35   python       220.0  13530  False        5.393628  3.232779   \n",
       "31181  57.58   python       257.0  13793  False        5.549076  4.053175   \n",
       "31207  31.31   python       771.0  51267  False        6.647688  3.443938   \n",
       "31208  32.55   python       772.0  51333  False        6.648985  3.482777   \n",
       "\n",
       "       ruby  python  java  \n",
       "5         1       0     0  \n",
       "6         1       0     0  \n",
       "11        1       0     0  \n",
       "12        1       0     0  \n",
       "15        1       0     0  \n",
       "...     ...     ...   ...  \n",
       "31178     0       1     0  \n",
       "31180     0       1     0  \n",
       "31181     0       1     0  \n",
       "31207     0       1     0  \n",
       "31208     0       1     0  \n",
       "\n",
       "[8157 rows x 10 columns]"
      ]
     },
     "execution_count": 97,
     "metadata": {},
     "output_type": "execute_result"
    }
   ],
   "source": [
    "df"
   ]
  },
  {
   "cell_type": "code",
   "execution_count": 98,
   "id": "d240a593",
   "metadata": {},
   "outputs": [
    {
     "data": {
      "text/plain": [
       "<matplotlib.collections.PathCollection at 0x7fb3f35384c0>"
      ]
     },
     "execution_count": 98,
     "metadata": {},
     "output_type": "execute_result"
    },
    {
     "data": {
      "image/png": "[encoded data removed]",
      "text/plain": [
       "<Figure size 432x288 with 1 Axes>"
      ]
     },
     "metadata": {
      "image/png": {
       "height": 248,
       "width": 390
      }
     },
     "output_type": "display_data"
    }
   ],
   "source": [
    "plt.scatter(df['loc'],df['test_count']) "
   ]
  },
  {
   "cell_type": "code",
   "execution_count": 101,
   "id": "f0ab85a9",
   "metadata": {},
   "outputs": [
    {
     "name": "stdout",
     "output_type": "stream",
     "text": [
      "                            OLS Regression Results                            \n",
      "==============================================================================\n",
      "Dep. Variable:               log_time   R-squared:                       0.129\n",
      "Model:                            OLS   Adj. R-squared:                  0.128\n",
      "Method:                 Least Squares   F-statistic:                     301.6\n",
      "Date:                Wed, 08 Dec 2021   Prob (F-statistic):          2.54e-242\n",
      "Time:                        00:40:11   Log-Likelihood:                -15334.\n",
      "No. Observations:                8157   AIC:                         3.068e+04\n",
      "Df Residuals:                    8152   BIC:                         3.071e+04\n",
      "Df Model:                           4                                         \n",
      "Covariance Type:            nonrobust                                         \n",
      "==================================================================================\n",
      "                     coef    std err          t      P>|t|      [0.025      0.975]\n",
      "----------------------------------------------------------------------------------\n",
      "const              1.6875      0.067     25.358      0.000       1.557       1.818\n",
      "loc             1.432e-05   9.18e-07     15.600      0.000    1.25e-05    1.61e-05\n",
      "log_test_count     0.2237      0.013     16.751      0.000       0.198       0.250\n",
      "ruby              -0.8459      0.041    -20.394      0.000      -0.927      -0.765\n",
      "java              -0.0734      0.059     -1.254      0.210      -0.188       0.041\n",
      "==============================================================================\n",
      "Omnibus:                      198.130   Durbin-Watson:                   0.550\n",
      "Prob(Omnibus):                  0.000   Jarque-Bera (JB):              172.138\n",
      "Skew:                           0.296   Prob(JB):                     4.18e-38\n",
      "Kurtosis:                       2.604   Cond. No.                     9.58e+04\n",
      "==============================================================================\n",
      "\n",
      "Notes:\n",
      "[1] Standard Errors assume that the covariance matrix of the errors is correctly specified.\n",
      "[2] The condition number is large, 9.58e+04. This might indicate that there are\n",
      "strong multicollinearity or other numerical problems.\n"
     ]
    }
   ],
   "source": [
    "y = (df['log_time'])\n",
    "X = df.iloc[:,[3,5,7,9]]\n",
    "X = sm.add_constant(X)\n",
    "model = sm.OLS(y, X)\n",
    "results = model.fit()\n",
    "results\n",
    "print(results.summary())"
   ]
  }
 ],
 "metadata": {
  "kernelspec": {
   "display_name": "Python 3",
   "language": "python",
   "name": "python3"
  },
  "language_info": {
   "codemirror_mode": {
    "name": "ipython",
    "version": 3
   },
   "file_extension": ".py",
   "mimetype": "text/x-python",
   "name": "python",
   "nbconvert_exporter": "python",
   "pygments_lexer": "ipython3",
   "version": "3.8.8"
  }
 },
 "nbformat": 4,
 "nbformat_minor": 5
}
